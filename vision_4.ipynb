{
 "cells": [
  {
   "cell_type": "code",
   "execution_count": 113,
   "metadata": {},
   "outputs": [],
   "source": [
    "import cv2 as cv # unsigned char -> 부호가 없는 즉 음수가아닌 정수로.\n",
    "\n",
    "img = cv.imread('lenna.jpeg',cv.IMREAD_GRAYSCALE)\n",
    "\n",
    "if img is None:\n",
    "    print(\"image load failed\")\n",
    "    exit()\n",
    "\n",
    "img[:,img.shape[1]//2:] = 255 - img[:,img.shape[1]//2:]\n",
    "# img[img.shape[0]//2:,:] = 255 - img[img.shape[0]//2:,:]\n",
    "cv.imshow('image',img)\n",
    "cv.waitKey()\n",
    "cv.destroyAllWindows()"
   ]
  },
  {
   "cell_type": "code",
   "execution_count": 111,
   "metadata": {},
   "outputs": [
    {
     "name": "stdout",
     "output_type": "stream",
     "text": [
      "[[[1 5]\n",
      "  [4 6]\n",
      "  [2 4]]\n",
      "\n",
      " [[7 8]\n",
      "  [5 2]\n",
      "  [3 9]]]\n",
      "(2, 3, 2) 5\n"
     ]
    }
   ],
   "source": [
    "import numpy as np\n",
    "nums = np.array([[[1, 4, 2], [5, 6, 4]], [[7, 5, 3], [8, 2, 9]]])\n",
    "arr = nums.transpose(0,2,1) # 큰 배열 그대로 열을 행으로 , 행을 열로 순\n",
    "print(arr)\n",
    "print(arr.shape, arr[1, 1, 0])"
   ]
  },
  {
   "cell_type": "code",
   "execution_count": 66,
   "metadata": {},
   "outputs": [
    {
     "name": "stdout",
     "output_type": "stream",
     "text": [
      "[[[1 4]\n",
      "  [2 5]\n",
      "  [6 4]]\n",
      "\n",
      " [[7 5]\n",
      "  [3 8]\n",
      "  [2 9]]]\n",
      "(2, 3, 2) 3\n"
     ]
    }
   ],
   "source": [
    "import numpy as np\n",
    "nums = np.array([[[1, 4, 2], [5, 6, 4]], [[7, 5, 3], [8, 2, 9]]])\n",
    "arr = nums.reshape(2,3,2) # 큰 배열 그대로 열을 행으로 , 행을 열로 순\n",
    "print(arr)\n",
    "print(arr.shape, arr[1, 1, 0])"
   ]
  },
  {
   "cell_type": "code",
   "execution_count": null,
   "metadata": {},
   "outputs": [
    {
     "name": "stdout",
     "output_type": "stream",
     "text": [
      "[array([[ 30,  58,  62, ...,  75,  81,  57],\n",
      "       [ 37, 119, 114, ..., 174, 161, 157],\n",
      "       [ 38, 121, 115, ..., 171, 170, 158],\n",
      "       ...,\n",
      "       [ 28, 124, 132, ..., 199, 196, 187],\n",
      "       [ 28, 121, 111, ..., 195, 193, 169],\n",
      "       [ 28,  86, 127, ..., 184, 192, 196]], dtype=uint8), array([[179, 186, 191, ..., 211, 216, 173],\n",
      "       [189, 179, 182, ..., 114, 110,  98],\n",
      "       [191, 174, 178, ..., 109, 112,  96],\n",
      "       ...,\n",
      "       [174, 130, 131, ..., 115, 114, 129],\n",
      "       [174, 143, 139, ..., 114, 116, 147],\n",
      "       [174, 152, 137, ..., 115, 113, 129]], dtype=uint8), array([[111, 175, 175, ..., 175, 182, 198],\n",
      "       [107,  87,  92, ...,  78,  86,  87],\n",
      "       [107,  88,  90, ...,  83,  76,  88],\n",
      "       ...,\n",
      "       [112,  85,  84, ..., 114, 113,  95],\n",
      "       [112,  89,  92, ..., 110, 115,  99],\n",
      "       [112, 100,  89, ..., 109, 122, 114]], dtype=uint8)]\n"
     ]
    }
   ],
   "source": [
    "# 컬러 히스토그램 평활화 -> YCrCb를 사용해서\n",
    "import cv2 as cv\n",
    "import numpy as np\n",
    "\n",
    "src = cv.imread('pepper.bmp', cv.IMREAD_COLOR)\n",
    "\n",
    "if src is None:\n",
    "    print('Image load failed!')\n",
    "    exit()\n",
    "\n",
    "src_ycrcb = cv.cvtColor(src, cv.COLOR_BGR2YCrCb)\n",
    "\n",
    "ycrcb_planes = list(cv.split(src_ycrcb)) # 튜플이라 리스트로 변환\n",
    "print(ycrcb_planes)\n",
    "ycrcb_planes[0] = cv.equalizeHist(ycrcb_planes[0])\n",
    "\n",
    "dst_ycrcb = cv.merge(ycrcb_planes)\n",
    "\n",
    "dst = cv.cvtColor(dst_ycrcb, cv.COLOR_YCrCb2BGR)\n",
    "\n",
    "cv.imshow('src', src)\n",
    "cv.imshow('dst', dst)\n",
    "cv.waitKey()\n",
    "cv.destroyAllWindows()"
   ]
  },
  {
   "cell_type": "code",
   "execution_count": 3,
   "metadata": {},
   "outputs": [
    {
     "name": "stdout",
     "output_type": "stream",
     "text": [
      "type(img1): <class 'numpy.ndarray'>\n",
      "img1.shape: (190, 266)\n",
      "img1 is a grayscale image\n"
     ]
    }
   ],
   "source": [
    "import numpy as np\n",
    "import cv2 as cv\n",
    "\n",
    "def func1():\n",
    "    img1 = cv.imread('cat.jpeg',cv.IMREAD_GRAYSCALE)\n",
    "    \n",
    "    if img1 is None:\n",
    "        print('Image load failed!')\n",
    "        return\n",
    "    print('type(img1):',type(img1))\n",
    "    print('img1.shape:', img1.shape)\n",
    "    \n",
    "    if len(img1.shape) == 2:\n",
    "        print('img1 is a grayscale image')\n",
    "    elif len(img1.shape) == 3 :\n",
    "        print('img1 is a truecolor image')\n",
    "    cv.imshow('img1',img1)\n",
    "    cv.waitKey(1)\n",
    "    cv.destroyAllWindows()\n",
    "    \n",
    "func1()"
   ]
  },
  {
   "cell_type": "code",
   "execution_count": 4,
   "metadata": {},
   "outputs": [],
   "source": [
    "import numpy as np\n",
    "\n",
    "mat1=np.array([[0,0,0],[0,0,0],[0,0,0]])\n",
    "mat2=np.array([[1,1,1],[1,1,1],[1,1,1]])\n",
    "mat3=np.array([[1,0,0],[0,1,0],[0,0,1]])"
   ]
  },
  {
   "cell_type": "code",
   "execution_count": 21,
   "metadata": {},
   "outputs": [
    {
     "data": {
      "text/plain": [
       "array([[0., 0., 0.],\n",
       "       [0., 0., 0.],\n",
       "       [0., 0., 0.]])"
      ]
     },
     "execution_count": 21,
     "metadata": {},
     "output_type": "execute_result"
    }
   ],
   "source": [
    "np.zeros((3,3,3))\n",
    "np.ones((3,3,3),np.int32)\n",
    "np.empty((3,3))"
   ]
  },
  {
   "cell_type": "code",
   "execution_count": 3,
   "metadata": {},
   "outputs": [
    {
     "name": "stdout",
     "output_type": "stream",
     "text": [
      "[[ 11 100  13  14]\n",
      " [ 21  22  23  24]\n",
      " [200 200 200   0]]\n"
     ]
    }
   ],
   "source": [
    "import numpy as np\n",
    "import cv2 as cv\n",
    "\n",
    "def func2():\n",
    "    img1 = np.empty((480,640), np.uint8)\n",
    "    img2 = np.zeros((480, 640, 3), np.uint8)\n",
    "    img3 = np.ones((480, 640), np.int32)\n",
    "    img4 = np.full((480, 640), 0, np.float32)\n",
    "    \n",
    "    mat1 = np.array([[11,12,13,14],\n",
    "                     [21,22,23,24],\n",
    "                     [31,32,33,256]]).astype(np.uint8)\n",
    "    mat1[0,1] = 100\n",
    "    mat1[2,:3] = 200\n",
    "    \n",
    "    print(mat1)\n",
    "func2()"
   ]
  },
  {
   "cell_type": "code",
   "execution_count": 29,
   "metadata": {},
   "outputs": [
    {
     "name": "stdout",
     "output_type": "stream",
     "text": [
      "[4 2 5]\n",
      "[4 2 5]\n",
      "[ 4 10  5]\n",
      "[4 2 5]\n"
     ]
    }
   ],
   "source": [
    "# copy를 하고 다른 값을 변형할때 어떤 변수가 변하는지\n",
    "import numpy as np\n",
    "\n",
    "nums = np.array([1,4,2,5,3])\n",
    "ref = nums[1:4]\n",
    "cpy = nums[1:4].copy()\n",
    "print(ref)\n",
    "print(cpy)\n",
    "nums[2] = 10\n",
    "print(ref)\n",
    "print(cpy)\n"
   ]
  },
  {
   "cell_type": "code",
   "execution_count": 7,
   "metadata": {},
   "outputs": [],
   "source": [
    "import numpy as np\n",
    "import cv2 as cv\n",
    "def func3():\n",
    "    img1 = cv.imread('cat.jpeg')\n",
    "    img2 = img1\n",
    "    img3 = img1.copy()\n",
    "    \n",
    "    img1[:,:] = (0, 255, 255)\n",
    "    cv.imshow('img1', img1)\n",
    "    cv.imshow('img2', img2)\n",
    "    cv.imshow('img3', img3)\n",
    "    cv.waitKey()\n",
    "    cv.destroyAllWindows()\n",
    "func3()"
   ]
  },
  {
   "cell_type": "code",
   "execution_count": 13,
   "metadata": {},
   "outputs": [
    {
     "name": "stdout",
     "output_type": "stream",
     "text": [
      "(512, 512)\n"
     ]
    },
    {
     "ename": "",
     "evalue": "",
     "output_type": "error",
     "traceback": [
      "\u001b[1;31m현재 셀 또는 이전 셀에서 코드를 실행하는 동안 Kernel이 충돌했습니다. \n",
      "\u001b[1;31m셀의 코드를 검토하여 가능한 오류 원인을 식별하세요. \n",
      "\u001b[1;31m자세한 내용을 보려면 <a href='https://aka.ms/vscodeJupyterKernelCrash'>여기</a>를 클릭하세요. \n",
      "\u001b[1;31m자세한 내용은 Jupyter <a href='command:jupyter.viewOutput'>로그</a>를 참조하세요."
     ]
    }
   ],
   "source": [
    "# 이미지 값에 +20 을 해서 밝은 이미지로 만들어 보기 + 부분으로 사진 뽑아보기\n",
    "import numpy as np\n",
    "import cv2 as cv\n",
    "\n",
    "def func4():\n",
    "    img1 = cv.imread('lenna.bmp', cv.IMREAD_GRAYSCALE)\n",
    "    img2 = img1[200:400, 200:400]\n",
    "    img3 = img1[200:400, 200:400].copy()\n",
    "    print(img1.shape)\n",
    "    \n",
    "    img2 += 20\n",
    "    cv.imshow('img1', img1)\n",
    "    cv.imshow('img2', img2)\n",
    "    cv.imshow('img3', img3)\n",
    "    cv.waitKey(1)\n",
    "    cv.destroyAllWindows()\n",
    "\n",
    "func4()"
   ]
  },
  {
   "cell_type": "code",
   "execution_count": null,
   "metadata": {},
   "outputs": [
    {
     "name": "stdout",
     "output_type": "stream",
     "text": [
      "Camara open failed!\n",
      "Frame Width 0\n",
      "Frame height 0\n"
     ]
    },
    {
     "name": "stderr",
     "output_type": "stream",
     "text": [
      "OpenCV: out device of bound (0-0): 1\n",
      "OpenCV: camera failed to properly initialize!\n"
     ]
    },
    {
     "ename": "",
     "evalue": "",
     "output_type": "error",
     "traceback": [
      "\u001b[1;31m현재 셀 또는 이전 셀에서 코드를 실행하는 동안 Kernel이 충돌했습니다. \n",
      "\u001b[1;31m셀의 코드를 검토하여 가능한 오류 원인을 식별하세요. \n",
      "\u001b[1;31m자세한 내용을 보려면 <a href='https://aka.ms/vscodeJupyterKernelCrash'>여기</a>를 클릭하세요. \n",
      "\u001b[1;31m자세한 내용은 Jupyter <a href='command:jupyter.viewOutput'>로그</a>를 참조하세요."
     ]
    }
   ],
   "source": [
    "# 비디오를 열어보기\n",
    "import cv2 as cv\n",
    "cap = cv.VideoCapture(1)\n",
    "if not cap.isOpened():\n",
    "    print(\"Camara open failed!\")\n",
    "    exit()\n",
    "    \n",
    "print('Frame Width', int(cap.get(cv.CAP_PROP_FRAME_WIDTH)))\n",
    "print('Frame height', int(cap.get(cv.CAP_PROP_FRAME_HEIGHT)))"
   ]
  },
  {
   "cell_type": "code",
   "execution_count": 2,
   "metadata": {},
   "outputs": [
    {
     "ename": "",
     "evalue": "",
     "output_type": "error",
     "traceback": [
      "\u001b[1;31m현재 셀 또는 이전 셀에서 코드를 실행하는 동안 Kernel이 충돌했습니다. \n",
      "\u001b[1;31m셀의 코드를 검토하여 가능한 오류 원인을 식별하세요. \n",
      "\u001b[1;31m자세한 내용을 보려면 <a href='https://aka.ms/vscodeJupyterKernelCrash'>여기</a>를 클릭하세요. \n",
      "\u001b[1;31m자세한 내용은 Jupyter <a href='command:jupyter.viewOutput'>로그</a>를 참조하세요."
     ]
    }
   ],
   "source": [
    "# 창 닫고 싶으면 걍 파이썬 자체 pkill python 터미널에 치기.\n",
    "# 반전되는 영상과, 그냥 기본영상을 띄워놓는 코드\n",
    "\n",
    "if not cap.isOpened():\n",
    "    print(\"Camara open failed!\")\n",
    "    exit()\n",
    "\n",
    "while True:\n",
    "    ret, frame = cap.read()\n",
    "    \n",
    "    if not ret:\n",
    "        break\n",
    "    \n",
    "    inversed = ~frame # 255 - 원래값 해서 반전됨 (unsigned integer 한에서)\n",
    "    cv.imshow('frame', frame)\n",
    "    cv.imshow('inversed', inversed)\n",
    "    \n",
    "    if cv.waitKey(10) & 0xFF == 27:\n",
    "        break\n",
    "\n",
    "cap.release()\n",
    "cv.destroyAllWindows()"
   ]
  },
  {
   "cell_type": "code",
   "execution_count": 2,
   "metadata": {},
   "outputs": [
    {
     "name": "stdout",
     "output_type": "stream",
     "text": [
      "dd\n"
     ]
    }
   ],
   "source": [
    "print(\"dd\")"
   ]
  },
  {
   "cell_type": "code",
   "execution_count": 17,
   "metadata": {},
   "outputs": [
    {
     "name": "stdout",
     "output_type": "stream",
     "text": [
      "fps : 30.0\n"
     ]
    }
   ],
   "source": [
    "# 내 카메라에 대한 초당 프레임 수 확인\n",
    "import cv2 as cv\n",
    "cap = cv.VideoCapture(0)\n",
    "fps = cap.get(cv.CAP_PROP_FPS)\n",
    "print(\"fps :\",fps)\n",
    "delay = round(1000 / fps)\n"
   ]
  },
  {
   "cell_type": "code",
   "execution_count": 18,
   "metadata": {},
   "outputs": [
    {
     "ename": "",
     "evalue": "",
     "output_type": "error",
     "traceback": [
      "\u001b[1;31m현재 셀 또는 이전 셀에서 코드를 실행하는 동안 Kernel이 충돌했습니다. \n",
      "\u001b[1;31m셀의 코드를 검토하여 가능한 오류 원인을 식별하세요. \n",
      "\u001b[1;31m자세한 내용을 보려면 <a href='https://aka.ms/vscodeJupyterKernelCrash'>여기</a>를 클릭하세요. \n",
      "\u001b[1;31m자세한 내용은 Jupyter <a href='command:jupyter.viewOutput'>로그</a>를 참조하세요."
     ]
    }
   ],
   "source": [
    "# 카메라 사용 종료\n",
    "cap.release()\n",
    "\n",
    "# 모든 OpenCV 창 닫기\n",
    "cv.destroyAllWindows()"
   ]
  },
  {
   "cell_type": "code",
   "execution_count": 1,
   "metadata": {},
   "outputs": [
    {
     "name": "stdout",
     "output_type": "stream",
     "text": [
      "Frame width: 224\n",
      "Frame height: 224\n",
      "Frame count: 135\n",
      "fps 25.0\n"
     ]
    }
   ],
   "source": [
    "# 동영상 파일 처리하기\n",
    "import cv2 as cv\n",
    "cap = cv.VideoCapture('vide11.mp4')\n",
    "if not cap.isOpened():\n",
    "    print(\"Video open failed!\")\n",
    "    exit()\n",
    "print('Frame width:', int(cap.get(cv.CAP_PROP_FRAME_WIDTH)))\n",
    "print('Frame height:', int(cap.get(cv.CAP_PROP_FRAME_HEIGHT)))\n",
    "print('Frame count:', int(cap.get(cv.CAP_PROP_FRAME_COUNT)))\n",
    "\n",
    "fps = cap.get(cv.CAP_PROP_FPS)\n",
    "print(\"fps\", fps)\n",
    "delay = round(1000/fps)"
   ]
  },
  {
   "cell_type": "code",
   "execution_count": 2,
   "metadata": {},
   "outputs": [
    {
     "ename": "",
     "evalue": "",
     "output_type": "error",
     "traceback": [
      "\u001b[1;31m현재 셀 또는 이전 셀에서 코드를 실행하는 동안 Kernel이 충돌했습니다. \n",
      "\u001b[1;31m셀의 코드를 검토하여 가능한 오류 원인을 식별하세요. \n",
      "\u001b[1;31m자세한 내용을 보려면 <a href='https://aka.ms/vscodeJupyterKernelCrash'>여기</a>를 클릭하세요. \n",
      "\u001b[1;31m자세한 내용은 Jupyter <a href='command:jupyter.viewOutput'>로그</a>를 참조하세요."
     ]
    }
   ],
   "source": [
    "while True:\n",
    "    ret, frame = cap.read()\n",
    "    \n",
    "    if not ret:\n",
    "        break\n",
    "    inversed = ~frame\n",
    "    \n",
    "    cv.imshow('frame', frame)\n",
    "    cv.imshow('inversed', inversed)\n",
    "    \n",
    "    if cv.waitKey(delay) == 27:\n",
    "        break\n",
    "cv.destroyAllWindows()"
   ]
  },
  {
   "cell_type": "code",
   "execution_count": null,
   "metadata": {},
   "outputs": [],
   "source": [
    "# 비디오 파일 저장하기\n",
    "fourcc = cv.VideoWriter_fourcc(\"*DIVX\")\n",
    "\n",
    "# 동영상 파일 저장하기 (파일이름, fourcc, fps값, (너비, 높이) 순)\n",
    "outputVideo = cv.VideoWriter('output.avi', fourcc, fps (w,h))"
   ]
  },
  {
   "cell_type": "code",
   "execution_count": 6,
   "metadata": {},
   "outputs": [
    {
     "name": "stderr",
     "output_type": "stream",
     "text": [
      "OpenCV: FFMPEG: tag 0x34363258/'X264' is not supported with codec id 27 and format 'mp4 / MP4 (MPEG-4 Part 14)'\n",
      "OpenCV: FFMPEG: fallback to use tag 0x31637661/'avc1'\n"
     ]
    },
    {
     "ename": "",
     "evalue": "",
     "output_type": "error",
     "traceback": [
      "\u001b[1;31m현재 셀 또는 이전 셀에서 코드를 실행하는 동안 Kernel이 충돌했습니다. \n",
      "\u001b[1;31m셀의 코드를 검토하여 가능한 오류 원인을 식별하세요. \n",
      "\u001b[1;31m자세한 내용을 보려면 <a href='https://aka.ms/vscodeJupyterKernelCrash'>여기</a>를 클릭하세요. \n",
      "\u001b[1;31m자세한 내용은 Jupyter <a href='command:jupyter.viewOutput'>로그</a>를 참조하세요."
     ]
    }
   ],
   "source": [
    "# 기본 영상을 읽어서 반전한 영상을 저장하기 2번실행하면 뭐 얼추 파일이 열리는듯함\n",
    "\n",
    "import cv2 as cv\n",
    "cap = cv.VideoCapture('vide11.mp4')\n",
    "\n",
    "if not cap.isOpened():\n",
    "    print(\"video open failed!\")\n",
    "    exit()\n",
    "\n",
    "w = round(cap.get(cv.CAP_PROP_FRAME_WIDTH))\n",
    "h = round(cap.get(cv.CAP_PROP_FRAME_HEIGHT))\n",
    "fps = cap.get(cv.CAP_PROP_FPS)\n",
    "\n",
    "fourcc = cv.VideoWriter_fourcc(*'X264')\n",
    "delay = round(1000 / fps)\n",
    "\n",
    "outputVideo = cv.VideoWriter('output.mp4', fourcc, fps, (w,h))\n",
    "if not outputVideo.isOpened():\n",
    "    print('File open failed!')\n",
    "    exit()\n",
    "\n",
    "while True:\n",
    "    ret, frame = cap.read()\n",
    "    if not ret:\n",
    "        break\n",
    "    inversed = ~frame\n",
    "    outputVideo.write(inversed)\n",
    "    \n",
    "    cv.imshow('frame',frame)\n",
    "    cv.imshow('inversed',inversed)\n",
    "    #imshow를 빼고 하면 아마 잘 저장될거임 맥북이라서 충돌이 좀 있다.\n",
    "    \n",
    "    if cv.waitKey(delay) == 27:\n",
    "        break\n",
    "\n",
    "cv.destroyAllWindows()"
   ]
  },
  {
   "cell_type": "code",
   "execution_count": 3,
   "metadata": {},
   "outputs": [],
   "source": [
    "import numpy as np\n",
    "img = np.full((400, 400, 3), 255, np.uint8)"
   ]
  },
  {
   "cell_type": "code",
   "execution_count": 3,
   "metadata": {},
   "outputs": [],
   "source": [
    "# 다양한 그리기 함수 활용\n",
    "\n",
    "import numpy as np\n",
    "import cv2 as cv\n",
    "\n",
    "img = np.full((400,400,3), 255, np.uint8)\n",
    "\n",
    "# 이건 직선으로 그린건데 왜 굵기가 다른지 모르겠음\n",
    "cv.line(img,(50, 50), (200, 50), (0, 0, 255),1,cv.LINE_4)\n",
    "cv.line(img, (50, 100), (200, 100), (255, 0, 255), 3)\n",
    "cv.line(img, (50, 150), (200, 150), (255, 0, 0), 10)\n",
    "\n",
    "# 이건 line type으로 4방향, 8방향, 안티에일리어싱으로 그린것\n",
    "cv.line(img, (250, 50), (350, 100), (0, 0, 255), 1, cv.LINE_4)\n",
    "cv.line(img, (250, 70), (350, 120), (255, 0, 255), 1, cv.LINE_8)\n",
    "cv.line(img, (250, 90), (350, 140), (255, 0, 0), 1, cv.LINE_AA)\n",
    "\n",
    "cv.imshow(\"img\", img)\n",
    "cv.waitKey()\n",
    "cv.destroyAllWindows()"
   ]
  },
  {
   "cell_type": "code",
   "execution_count": 4,
   "metadata": {},
   "outputs": [],
   "source": [
    "#50->150 길이만큼, 50->350 길이만큼 ... 화살표 그리기 (arrow)\n",
    "import numpy as np\n",
    "import cv2 as cv\n",
    "\n",
    "img = np.full((400,400,3), 255, np.uint8)\n",
    "\n",
    "cv.arrowedLine(img, (50, 200), (150, 200), (0, 0, 255), 1)\n",
    "cv.arrowedLine(img, (50, 250), (350, 250), (255, 0, 255), 1)\n",
    "cv.arrowedLine(img, (50, 300), (350, 300), (255, 0, 0), 1, cv.LINE_8, 0, 0.05)\n",
    "\n",
    "# cv.MARKER_ 를 사용한 여러 모양 그리기\n",
    "cv.drawMarker(img, (50, 350), (0, 0, 255), cv.MARKER_CROSS)\n",
    "cv.drawMarker(img, (100, 350), (0, 0, 255), cv.MARKER_TILTED_CROSS)\n",
    "cv.drawMarker(img, (150, 350), (0, 0, 255), cv.MARKER_STAR)\n",
    "cv.drawMarker(img, (200, 350), (0, 0, 255), cv.MARKER_DIAMOND)\n",
    "cv.drawMarker(img, (250, 350), (0, 0, 255), cv.MARKER_SQUARE)\n",
    "cv.drawMarker(img, (300, 350), (0, 0, 255), cv.MARKER_TRIANGLE_UP)\n",
    "cv.drawMarker(img, (350, 350), (0, 0, 255), cv.MARKER_TRIANGLE_DOWN)\n",
    "cv.imshow(\"img\", img)\n",
    "cv.waitKey()\n",
    "cv.destroyAllWindows()"
   ]
  },
  {
   "cell_type": "code",
   "execution_count": 3,
   "metadata": {},
   "outputs": [],
   "source": [
    "import numpy as np\n",
    "import cv2 as cv\n",
    "\n",
    "img = np.full((400, 400, 3), 255, np.uint8)\n",
    "\n",
    "# 사각형 대각위치의 두 꼭짓점을 통해서 4각형  -1 은 안까지 채우는건가?\n",
    "cv.rectangle(img, (50, 50), (150, 100), (0, 0, 255), 2) # 2 는 두깨\n",
    "cv.rectangle(img, (50, 150), (150, 200), (0, 0, 128), -1) # -1 -> thickness로 내부를 채움\n",
    "\n",
    "# 원그리기 30 60 은 반지름 같음\n",
    "cv.circle(img, (300, 120), 30, (255, 255, 0), -1, cv.LINE_AA)\n",
    "cv.circle(img, (300, 120), 60, (255, 0, 0), 3, cv.LINE_AA)\n",
    "\n",
    "# 타원 그리기 ) 은 타원의 각각 x,y축 반지름  270은 x축 기준 시계방향 270도? \n",
    "cv.ellipse(img, (120, 300), (60, 30), 20, 0, 270, (255, 255, 0), cv.FILLED, cv.LINE_AA)\n",
    "cv.ellipse(img, (120, 300), (100, 50), 20, 0, 360, (0, 255, 0), 2, cv.LINE_AA)\n",
    "\n",
    "pts = np.array([[250, 250], [300, 250], [300, 300], [350, 300], [350, 350], [250, 350]])\n",
    "cv.polylines(img, [pts], True, (255, 0, 255), 2)\n",
    "\n",
    "cv.imshow(\"img\", img)\n",
    "cv.waitKey()\n",
    "cv.destroyAllWindows()"
   ]
  },
  {
   "cell_type": "code",
   "execution_count": 8,
   "metadata": {},
   "outputs": [],
   "source": [
    "import numpy as np\n",
    "import cv2 as cv\n",
    "\n",
    "img = np.full((400, 400, 3), 255, np.uint8)\n",
    "\n",
    "# 사각형 대각위치의 두 꼭짓점을 통해서 4각형  -1 은 안까지 채우는건가?\n",
    "cv.rectangle(img, (50, 50), (150, 100), (0, 0, 255), 2) # 2 는 두깨\n",
    "cv.rectangle(img, (50, 150), (150, 200), (0, 0, 128), -1) # -1 -> thickness로 내부를 채움\n",
    "\n",
    "cv.imshow(\"img\", img)\n",
    "cv.waitKey()\n",
    "cv.destroyAllWindows()"
   ]
  },
  {
   "cell_type": "code",
   "execution_count": 9,
   "metadata": {},
   "outputs": [],
   "source": [
    "import numpy as np\n",
    "import cv2 as cv\n",
    "\n",
    "img = np.full((400, 400, 3), 255, np.uint8)\n",
    "\n",
    "# 원그리기 30 60 은 반지름 같음\n",
    "cv.circle(img, (300, 120), 30, (255, 255, 0), -1, cv.LINE_AA)\n",
    "cv.circle(img, (300, 120), 60, (255, 0, 0), 3, cv.LINE_AA)\n",
    "\n",
    "cv.imshow(\"img\", img)\n",
    "cv.waitKey()\n",
    "cv.destroyAllWindows()"
   ]
  },
  {
   "cell_type": "code",
   "execution_count": 11,
   "metadata": {},
   "outputs": [],
   "source": [
    "import numpy as np\n",
    "import cv2 as cv\n",
    "\n",
    "img = np.full((400, 400, 3), 255, np.uint8)\n",
    "\n",
    "# 타원 그리기 ) 은 타원의 각각 x,y축 반지름  270은 x축 기준 시계방향 270도? \n",
    "cv.ellipse(img, (120, 300), (60, 30), 20, 0, 270, (255, 255, 0), cv.FILLED, cv.LINE_AA)\n",
    "cv.ellipse(img, (120, 300), (100, 50), 20, 0, 360, (0, 255, 0), 2, cv.LINE_AA)\n",
    "\n",
    "cv.imshow(\"img\", img)\n",
    "cv.waitKey()\n",
    "cv.destroyAllWindows()"
   ]
  },
  {
   "cell_type": "code",
   "execution_count": 12,
   "metadata": {},
   "outputs": [],
   "source": [
    "import numpy as np\n",
    "import cv2 as cv\n",
    "\n",
    "img = np.full((400, 400, 3), 255, np.uint8)\n",
    "\n",
    "\n",
    "pts = np.array([[250, 250], [300, 250], [300, 300], [350, 300], [350, 350], [250, 350]])\n",
    "cv.polylines(img, [pts], True, (255, 0, 255), 2)\n",
    "\n",
    "cv.imshow(\"img\", img)\n",
    "cv.waitKey()\n",
    "cv.destroyAllWindows()"
   ]
  },
  {
   "cell_type": "code",
   "execution_count": 13,
   "metadata": {},
   "outputs": [],
   "source": [
    "import numpy as np\n",
    "import cv2\n",
    "\n",
    "\n",
    "img = np.full((500, 800, 3), 255, np.uint8)\n",
    "\n",
    "cv2.putText(img, \"FONT_HERSHEY_SIMPLEX\", (20, 50), cv2.FONT_HERSHEY_SIMPLEX, 1, (0, 0, 255))\n",
    "cv2.putText(img, \"FONT_HERSHEY_PLAIN\", (20, 100), cv2.FONT_HERSHEY_PLAIN, 1, (0, 0, 255))\n",
    "cv2.putText(img, \"FONT_HERSHEY_DUPLEX\", (20, 150), cv2.FONT_HERSHEY_DUPLEX, 1, (0, 0, 255))\n",
    "cv2.putText(img, \"FONT_HERSHEY_COMPLEX\", (20, 200), cv2.FONT_HERSHEY_COMPLEX, 1, (255, 0, 0))\n",
    "cv2.putText(img, \"FONT_HERSHEY_TRIPLEX\", (20, 250), cv2.FONT_HERSHEY_TRIPLEX, 1, (255, 0, 0))\n",
    "cv2.putText(img, \"FONT_HERSHEY_COMPLEX_SMALL\", (20, 300), cv2.FONT_HERSHEY_COMPLEX_SMALL, 1, (255, 0, 0))\n",
    "cv2.putText(img, \"FONT_HERSHEY_SCRIPT_SIMPLEX\", (20, 350), cv2.FONT_HERSHEY_SCRIPT_SIMPLEX, 1, (255, 0, 255))\n",
    "cv2.putText(img, \"FONT_HERSHEY_SCRIPT_COMPLEX\", (20, 400), cv2.FONT_HERSHEY_SCRIPT_COMPLEX, 1, (255, 0, 255))\n",
    "cv2.putText(img, \"FONT_HERSHEY_COMPLEX | FONT_ITALIC\", (20, 450), cv2.FONT_HERSHEY_COMPLEX | cv2.FONT_ITALIC, 1, (255, 0, 0))\n",
    "\n",
    "cv2.imshow(\"img\", img)\n",
    "cv2.waitKey()\n",
    "cv2.destroyAllWindows()\n",
    "\n"
   ]
  },
  {
   "cell_type": "code",
   "execution_count": 14,
   "metadata": {},
   "outputs": [],
   "source": [
    "import numpy as np\n",
    "import cv2 as cv\n",
    "\n",
    "img = np.full((200, 640, 3), 255, np.uint8)\n",
    "\n",
    "text = \"Hello, OpenCV\"\n",
    "fontFace = cv.FONT_HERSHEY_TRIPLEX\n",
    "fontScale = 2.0\n",
    "thickness = 1\n",
    "\n",
    "sizeText, _ = cv.getTextSize(text, fontFace, fontScale, thickness)\n",
    "org = ((img.shape[1] - sizeText[0]) // 2, (img.shape[0] + sizeText[1]) // 2)\n",
    "cv.putText(img, text, org, fontFace, fontScale, (255, 0, 0), thickness)\n",
    "cv.rectangle(img, org, (org[0] + sizeText[0], org[1] - sizeText[1]), (0, 255, 0), 1)\n",
    "\n",
    "cv.imshow(\"image\",img)\n",
    "cv.waitKey()\n",
    "cv.destroyAllWindows()"
   ]
  },
  {
   "cell_type": "code",
   "execution_count": 9,
   "metadata": {},
   "outputs": [
    {
     "data": {
      "text/plain": [
       "(481, 43)"
      ]
     },
     "execution_count": 9,
     "metadata": {},
     "output_type": "execute_result"
    }
   ],
   "source": [
    "sizeText, _ = cv.getTextSize(text, fontFace, fontScale, thickness)\n",
    "sizeText"
   ]
  },
  {
   "cell_type": "code",
   "execution_count": 11,
   "metadata": {},
   "outputs": [
    {
     "data": {
      "text/plain": [
       "(79, 121)"
      ]
     },
     "execution_count": 11,
     "metadata": {},
     "output_type": "execute_result"
    }
   ],
   "source": [
    "org"
   ]
  },
  {
   "cell_type": "code",
   "execution_count": 16,
   "metadata": {},
   "outputs": [],
   "source": [
    "# 키보드 이벤트 처리 관련 코드\n",
    "import cv2 as cv\n",
    "img = cv.imread(\"lenna.jpeg\")\n",
    "if img is None:\n",
    "    print(\"Image load failed!\")\n",
    "    exit()\n",
    "    \n",
    "cv.namedWindow('aaaimg') # 단지 창만 띄워놓는 용도\n",
    "cv.imshow('img', img)\n",
    "\n",
    "while True:\n",
    "    keycode = cv.waitKey()\n",
    "    if keycode == ord('i') or keycode == ord(\"I\"): \n",
    "        img = ~img # 반전?\n",
    "        cv.imshow('img', img)\n",
    "    elif keycode == 27 or keycode == ord('q') or keycode == ord('Q'):\n",
    "        break\n",
    "cv.destroyAllWindows()\n"
   ]
  },
  {
   "cell_type": "code",
   "execution_count": 20,
   "metadata": {},
   "outputs": [
    {
     "name": "stdout",
     "output_type": "stream",
     "text": [
      "EVENT_LBUTTONDOWN: 27, 9\n",
      "EVENT_LBUTTONUP: 27, 9\n",
      "EVENT_LBUTTONDOWN: 27, 9\n",
      "EVENT_LBUTTONUP: 27, 9\n",
      "EVENT_LBUTTONDOWN: 27, 9\n",
      "EVENT_LBUTTONUP: 27, 9\n",
      "EVENT_LBUTTONDOWN: 27, 9\n",
      "EVENT_LBUTTONUP: 27, 9\n",
      "EVENT_LBUTTONDOWN: 27, 9\n",
      "EVENT_LBUTTONUP: 27, 9\n",
      "EVENT_LBUTTONDOWN: 57, 53\n",
      "EVENT_LBUTTONUP: 57, 53\n",
      "EVENT_LBUTTONDOWN: 57, 53\n",
      "EVENT_LBUTTONUP: 58, 53\n",
      "EVENT_LBUTTONDOWN: 152, 57\n",
      "EVENT_LBUTTONUP: 153, 57\n",
      "EVENT_LBUTTONDOWN: 153, 57\n",
      "EVENT_LBUTTONUP: 143, 116\n",
      "EVENT_LBUTTONDOWN: 139, 140\n",
      "EVENT_LBUTTONUP: 139, 140\n",
      "EVENT_LBUTTONDOWN: 80, 69\n",
      "EVENT_LBUTTONUP: 153, 67\n",
      "EVENT_LBUTTONDOWN: 46, 30\n",
      "EVENT_LBUTTONDOWN: 20, 136\n",
      "EVENT_LBUTTONUP: 20, 136\n",
      "EVENT_LBUTTONDOWN: 20, 136\n",
      "EVENT_LBUTTONUP: 20, 136\n",
      "EVENT_LBUTTONDOWN: 20, 136\n",
      "EVENT_LBUTTONUP: 71, 138\n",
      "EVENT_LBUTTONDOWN: 62, 148\n",
      "EVENT_LBUTTONUP: 62, 148\n",
      "EVENT_LBUTTONDOWN: 139, 126\n",
      "EVENT_LBUTTONUP: 139, 126\n",
      "EVENT_LBUTTONDOWN: 44, 56\n",
      "EVENT_LBUTTONUP: 200, 124\n"
     ]
    }
   ],
   "source": [
    "# 마우스 이벤트 처리 실습\n",
    "# 왼쪽 버튼을 누르거나 뗀 좌표를 콘솔 창에 출력\n",
    "# 왼쪽 버튼을 누른 상태로 마우스 움직이면 궤적을 따라 영상 위에 노란색표시\n",
    "# onMouse 함수를 선언하여 callback 함수로 지정\n",
    "\n",
    "import cv2 as cv\n",
    "def on_mouse(event, x, y, flags, param):\n",
    "    global oldx, oldy\n",
    "    \n",
    "    if event == cv.EVENT_LBUTTONDOWN:\n",
    "        oldx, oldy = x, y\n",
    "        print('EVENT_LBUTTONDOWN: %d, %d' % (x, y))\n",
    "        \n",
    "    elif event == cv.EVENT_LBUTTONUP:\n",
    "        print('EVENT_LBUTTONUP: %d, %d' % (x, y))\n",
    "        \n",
    "    elif event == cv.EVENT_MOUSEMOVE:\n",
    "        if flags & cv.EVENT_FLAG_LBUTTON:\n",
    "            cv.line(img, (oldx, oldy), (x, y), (0, 255, 255), 2)\n",
    "            cv.imshow('img', img)\n",
    "            oldx, oldy = x, y\n",
    "img = cv.imread('lenna.jpeg')\n",
    "\n",
    "if img is None:\n",
    "    print(\"Image load failed!\")\n",
    "    exit()\n",
    "    \n",
    "cv.namedWindow('img')\n",
    "cv.setMouseCallback('img', on_mouse)\n",
    "\n",
    "cv.imshow('img', img)\n",
    "cv.waitKey()\n",
    "cv.destroyAllWindows()"
   ]
  },
  {
   "cell_type": "code",
   "execution_count": 21,
   "metadata": {},
   "outputs": [
    {
     "ename": "",
     "evalue": "",
     "output_type": "error",
     "traceback": [
      "\u001b[1;31m현재 셀 또는 이전 셀에서 코드를 실행하는 동안 Kernel이 충돌했습니다. \n",
      "\u001b[1;31m셀의 코드를 검토하여 가능한 오류 원인을 식별하세요. \n",
      "\u001b[1;31m자세한 내용을 보려면 <a href='https://aka.ms/vscodeJupyterKernelCrash'>여기</a>를 클릭하세요. \n",
      "\u001b[1;31m자세한 내용은 Jupyter <a href='command:jupyter.viewOutput'>로그</a>를 참조하세요."
     ]
    }
   ],
   "source": [
    "# 트랙바 사용해보기\n",
    "import numpy as np\n",
    "import cv2 as cv\n",
    "\n",
    "def saturated(value):\n",
    "    if value > 255 :\n",
    "        value = 255 # 0 ~ 255 의 색인 gray scale 범위 한정을 위해\n",
    "    elif value < 0 :\n",
    "        value = 0\n",
    "    \n",
    "    return value\n",
    "\n",
    "def on_level_change(pos):\n",
    "    img[:] = saturated(pos * 16)\n",
    "    cv.imshow('image', img)\n",
    "    \n",
    "img = np.zeros((400, 400), np.uint8)\n",
    "\n",
    "cv.namedWindow('image')\n",
    "cv.createTrackbar('level', 'image', 0, 16, on_level_change)\n",
    "\n",
    "cv.imshow('image',img)\n",
    "cv.waitKey()\n",
    "cv.destroyAllWindows()\n",
    "\n",
    "        \n"
   ]
  },
  {
   "cell_type": "code",
   "execution_count": 14,
   "metadata": {},
   "outputs": [],
   "source": [
    "# 데이터 파일 저장하기\n",
    "import numpy as np\n",
    "import cv2 as cv\n",
    "filename = 'mydata.json'\n",
    "# filename = 'mydaya.xml'\n",
    "# filename = 'mydaya.yml'\n",
    "\n",
    "def writeData():\n",
    "    name = 'joseph'\n",
    "    age = 26\n",
    "    pt1 = (100, 200)\n",
    "    scores = (80, 90, 50)\n",
    "    mat1 = np.array([[1.0, 1.5], [2.0, 3.2]], dtype=np.float32)\n",
    "    \n",
    "    fs = cv.FileStorage(filename, cv.FILE_STORAGE_WRITE)\n",
    "    \n",
    "    if not fs.isOpened():\n",
    "        print('FIle open Failed!')\n",
    "        return\n",
    "    \n",
    "    fs.write('name', name)\n",
    "    fs.write('age', age)\n",
    "    fs.write('point', pt1)\n",
    "    fs.write('scores', scores)\n",
    "    fs.write('data', mat1)\n",
    "    \n",
    "    fs.release()\n",
    "    \n",
    "writeData() # 이거 실행해줘야 함수호출 되는듯\n",
    "    \n",
    "    \n",
    " \n",
    "    \n",
    "    "
   ]
  },
  {
   "cell_type": "code",
   "execution_count": 19,
   "metadata": {},
   "outputs": [
    {
     "name": "stdout",
     "output_type": "stream",
     "text": [
      "name joseph\n",
      "age 26\n",
      "point (np.int32(100), np.int32(200))\n",
      "scores (np.float64(80.0), np.float64(90.0), np.float64(50.0))\n",
      "data:\n",
      "[[1.  1.5]\n",
      " [2.  3.2]]\n"
     ]
    }
   ],
   "source": [
    "# 저장한 데이터 파일 불러오기\n",
    "import cv2 as cv\n",
    "\n",
    "def readData():\n",
    "    fs = cv.FileStorage(filename, cv.FILE_STORAGE_READ)\n",
    "    \n",
    "    if not fs.isOpened():\n",
    "        print(\"file open failed!\")\n",
    "        return\n",
    "    name = fs.getNode('name').string()\n",
    "    age = int(fs.getNode('age').real())\n",
    "    pt1 = tuple(fs.getNode('point').mat().astype(np.int32).flatten())\n",
    "    scores = tuple(fs.getNode('scores').mat().flatten())\n",
    "    mat1 = fs.getNode('data').mat()\n",
    "    \n",
    "    fs.release()\n",
    "    \n",
    "    print('name', name)\n",
    "    print('age', age)\n",
    "    print('point', pt1)\n",
    "    print('scores', scores)\n",
    "    print('data:')\n",
    "    print(mat1)\n",
    "\n",
    "readData()"
   ]
  },
  {
   "cell_type": "code",
   "execution_count": 118,
   "metadata": {},
   "outputs": [
    {
     "ename": "",
     "evalue": "",
     "output_type": "error",
     "traceback": [
      "\u001b[1;31m현재 셀 또는 이전 셀에서 코드를 실행하는 동안 Kernel이 충돌했습니다. \n",
      "\u001b[1;31m셀의 코드를 검토하여 가능한 오류 원인을 식별하세요. \n",
      "\u001b[1;31m자세한 내용을 보려면 <a href='https://aka.ms/vscodeJupyterKernelCrash'>여기</a>를 클릭하세요. \n",
      "\u001b[1;31m자세한 내용은 Jupyter <a href='command:jupyter.viewOutput'>로그</a>를 참조하세요."
     ]
    }
   ],
   "source": [
    "# 마스크 연산\n",
    "# 마스크 영상\n",
    "import cv2 as cv\n",
    "def mask_setTO():\n",
    "    src = cv.imread('lenna.bmp', cv.IMREAD_COLOR)\n",
    "    mask = cv.imread('mask_smile.bmp', cv.IMREAD_GRAYSCALE)\n",
    "    \n",
    "    if src is None or mask is None :\n",
    "        print(\"image open failed!\")\n",
    "        return\n",
    "    \n",
    "    #src[mask == 255] = (0, 0, 255) # B G R 에서 G,R섞기 \n",
    "    r = np.where(mask[:, :,None] == 255, (0, 0, 255), src).astype(np.uint8)\n",
    "    r = np.where(mask[:, :,None] == 255, (0, 0, 255), np.where(mask[:,:,None]==0, (255,0,0),src)).astype(np.uint8)\n",
    "    cv.imshow('src',r)\n",
    "    cv.imshow('mask',mask)\n",
    "    cv.waitKey()\n",
    "    cv.destroyAllWindows()\n",
    "\n",
    "mask_setTO()\n"
   ]
  },
  {
   "cell_type": "code",
   "execution_count": 30,
   "metadata": {},
   "outputs": [],
   "source": [
    "# 마스크 영상 2\n",
    "import cv2 as cv\n",
    "def mask_copyTo():\n",
    "    src = cv.imread(\"ch04/airplane.bmp\",cv.IMREAD_COLOR)\n",
    "    mask = cv.imread(\"ch04/mask_plane.bmp\", cv.IMREAD_GRAYSCALE)\n",
    "    dst = cv.imread(\"ch04/field.bmp\",cv.IMREAD_COLOR)\n",
    "    \n",
    "    if src is None or mask is None or dst is None:\n",
    "        print(\"file open failed!\")\n",
    "        return\n",
    "    cv.imshow(\"basic dst\",dst)\n",
    "    dst[mask > 0] = src[mask > 0]\n",
    "    cv.imshow('src', src)\n",
    "    cv.imshow('dst', dst)\n",
    "    cv.imshow('mask', mask)\n",
    "    cv.waitKey()\n",
    "    cv.destroyAllWindows()\n",
    "    \n",
    "mask_copyTo()\n",
    "\n",
    "# 결론 누끼를 따야함\n",
    "    \n",
    "    "
   ]
  },
  {
   "cell_type": "code",
   "execution_count": 40,
   "metadata": {},
   "outputs": [
    {
     "name": "stdout",
     "output_type": "stream",
     "text": [
      "Image inverse implementation took 77.272 ms\n"
     ]
    }
   ],
   "source": [
    "# 연산 시간 측정\n",
    "import cv2 as cv\n",
    "\n",
    "def time_inverse():\n",
    "    src = cv.imread('lenna.bmp', cv.IMREAD_GRAYSCALE)\n",
    "    \n",
    "    if src is None:\n",
    "        print(\"file open failed!\")\n",
    "        return\n",
    "    dst = np.empty(src.shape, dtype = src.dtype)\n",
    "    tm = cv.TickMeter()\n",
    "    tm.start()\n",
    "\n",
    "    for y in range(src.shape[0]):\n",
    "        for x in range(src.shape[1]):\n",
    "            dst[y, x] = 255 - src[y, x]\n",
    "            \n",
    "    tm.stop()\n",
    "    print(\"Image inverse implementation took %4.3f ms\" %tm.getTimeMilli())\n",
    "    \n",
    "    cv.imshow('src', src)\n",
    "    cv.imshow('dst', dst)\n",
    "    cv.waitKey()\n",
    "    cv.destroyAllWindows()\n",
    "    \n",
    "time_inverse()"
   ]
  },
  {
   "cell_type": "code",
   "execution_count": 42,
   "metadata": {},
   "outputs": [
    {
     "name": "stdout",
     "output_type": "stream",
     "text": [
      "Image inverse implementation took 1.28642 ms\n"
     ]
    }
   ],
   "source": [
    "# 연산 시간 측정\n",
    "import cv2 as cv\n",
    "\n",
    "def time_inverse():\n",
    "    src = cv.imread('lenna.bmp', cv.IMREAD_GRAYSCALE)\n",
    "    \n",
    "    if src is None:\n",
    "        print(\"file open failed!\")\n",
    "        return\n",
    "    dst = np.empty(src.shape, dtype = src.dtype)\n",
    "\n",
    "    tm = cv.TickMeter()\n",
    "    tm.start()\n",
    "\n",
    "    dst = ~src\n",
    "    \n",
    "    tm.stop()\n",
    "    print(\"Image inverse implementation took %4.5f ms\" %tm.getTimeMilli())\n",
    "    \n",
    "    cv.imshow('src', src)\n",
    "    cv.imshow('dst', dst)\n",
    "    cv.waitKey()\n",
    "    cv.destroyAllWindows()\n",
    "    \n",
    "time_inverse()"
   ]
  },
  {
   "cell_type": "code",
   "execution_count": 46,
   "metadata": {},
   "outputs": [
    {
     "name": "stdout",
     "output_type": "stream",
     "text": [
      "Sum: 32518590\n",
      "Mean: 124\n",
      "minVal is 25.0 at (508, 71)\n",
      "maxVal is 245.0 at (116, 273)\n"
     ]
    }
   ],
   "source": [
    "# 유용한 openCv 함수 사용법\n",
    "import cv2 as cv\n",
    "import cv2\n",
    "def useful_func():\n",
    "    img = cv.imread('lenna.bmp', cv.IMREAD_GRAYSCALE)\n",
    "    \n",
    "    if img is None:\n",
    "        print(\"file open failed!\")\n",
    "        return\n",
    "    sug_img = np.sum(img)\n",
    "    mean_img = np.mean(img, dtype=np.int32)\n",
    "    print('Sum:', sug_img)\n",
    "    print('Mean:',mean_img)\n",
    "    minVal, maxVal, minPos, maxPos = cv.minMaxLoc(img)\n",
    "    print('minVal is', minVal, 'at', minPos)\n",
    "    print('maxVal is', maxVal, 'at', maxPos)\n",
    "useful_func()    \n",
    "    "
   ]
  },
  {
   "cell_type": "code",
   "execution_count": 47,
   "metadata": {},
   "outputs": [
    {
     "name": "stdout",
     "output_type": "stream",
     "text": [
      "src: [[-1.  -0.5  0.   0.5  1. ]]\n",
      "dst: [[  0  64 128 191 255]]\n"
     ]
    }
   ],
   "source": [
    "import numpy as np\n",
    "\n",
    "src = np.array([[-1, -0.5, 0, 0.5, 1]], dtype=np.float32)\n",
    "dst = cv.normalize(src, None, 0, 255, cv2.NORM_MINMAX, cv.CV_8U)\n",
    "print('src:', src)\n",
    "print('dst:', dst)"
   ]
  },
  {
   "cell_type": "code",
   "execution_count": 2,
   "metadata": {},
   "outputs": [
    {
     "name": "stdout",
     "output_type": "stream",
     "text": [
      "img shape (612, 612)\n"
     ]
    }
   ],
   "source": [
    "# 체커 보드판 규격에 맞게 \n",
    "import cv2 as cv\n",
    "import numpy as np\n",
    "\n",
    "img = cv.imread(\"checker8_8.jpg\",cv.IMREAD_GRAYSCALE)\n",
    "print(\"img shape\",img.shape)\n",
    "cv.imshow(\"img\", img)\n",
    "cv.waitKey()\n",
    "cv.destroyAllWindows()"
   ]
  },
  {
   "cell_type": "code",
   "execution_count": 3,
   "metadata": {},
   "outputs": [
    {
     "name": "stdout",
     "output_type": "stream",
     "text": [
      "감지된 크기: 4 x 4, 규격을 확인할 수 없습니다.\n"
     ]
    }
   ],
   "source": []
  },
  {
   "cell_type": "code",
   "execution_count": 13,
   "metadata": {},
   "outputs": [
    {
     "name": "stdout",
     "output_type": "stream",
     "text": [
      "감지된 칸 수: 32, 규격을 확인할 수 없습니다.\n"
     ]
    },
    {
     "ename": "",
     "evalue": "",
     "output_type": "error",
     "traceback": [
      "\u001b[1;31m현재 셀 또는 이전 셀에서 코드를 실행하는 동안 Kernel이 충돌했습니다. \n",
      "\u001b[1;31m셀의 코드를 검토하여 가능한 오류 원인을 식별하세요. \n",
      "\u001b[1;31m자세한 내용을 보려면 <a href='https://aka.ms/vscodeJupyterKernelCrash'>여기</a>를 클릭하세요. \n",
      "\u001b[1;31m자세한 내용은 Jupyter <a href='command:jupyter.viewOutput'>로그</a>를 참조하세요."
     ]
    }
   ],
   "source": [
    "import cv2\n",
    "import numpy as np\n",
    "\n",
    "def detect_checkerboard_size(image_path):\n",
    "    # 이미지 읽기\n",
    "    img = cv2.imread(image_path)\n",
    "    gray = cv2.cvtColor(img, cv2.COLOR_BGR2GRAY)\n",
    "\n",
    "    # 이미지 크기 가져오기\n",
    "    rows, cols = gray.shape\n",
    "\n",
    "    # 가로축에서 변화 감지\n",
    "    changes_count = 0\n",
    "    prev_pixel = gray[rows // 2, 0]  # 가로축 중간의 첫 번째 픽셀 값으로 초기화\n",
    "\n",
    "    # 흑백 변화가 일어나는 지점 확인\n",
    "    for col in range(1, cols):\n",
    "        current_pixel = gray[rows // 2, col]\n",
    "        # 픽셀 값이 바뀌면 카운트 증가 (흑->백 또는 백->흑)\n",
    "        if current_pixel != prev_pixel:\n",
    "            changes_count += 1\n",
    "        prev_pixel = current_pixel\n",
    "\n",
    "    # 변화 횟수를 기반으로 칸 수 계산 (변화는 경계이므로, 2로 나눠서 칸 개수를 얻음)\n",
    "    num_squares_x = (changes_count // 2) + 1\n",
    "\n",
    "    # 칸 개수에 따라 규격 판별\n",
    "    if num_squares_x == 10:\n",
    "        return \"국제 룰: 10 x 10 크기 -> 10 x 10\"\n",
    "    elif num_squares_x == 8:\n",
    "        return \"영/미식 룰: 8 x 8 크기 -> 8 x 8\"\n",
    "    else:\n",
    "        return f\"감지된 칸 수: {num_squares_x}, 규격을 확인할 수 없습니다.\"\n",
    "\n",
    "# 이미지 경로 설정\n",
    "image_path = 'checker8_8.jpg'  # 이미지 파일 경로\n",
    "\n",
    "# 체커보드 크기 판별 실행\n",
    "print(detect_checkerboard_size(image_path))"
   ]
  },
  {
   "cell_type": "code",
   "execution_count": null,
   "metadata": {},
   "outputs": [],
   "source": []
  }
 ],
 "metadata": {
  "kernelspec": {
   "display_name": "comvi",
   "language": "python",
   "name": "python3"
  },
  "language_info": {
   "codemirror_mode": {
    "name": "ipython",
    "version": 3
   },
   "file_extension": ".py",
   "mimetype": "text/x-python",
   "name": "python",
   "nbconvert_exporter": "python",
   "pygments_lexer": "ipython3",
   "version": "3.9.1"
  }
 },
 "nbformat": 4,
 "nbformat_minor": 2
}
