{
 "cells": [
  {
   "cell_type": "code",
   "execution_count": 1,
   "metadata": {},
   "outputs": [
    {
     "ename": "",
     "evalue": "",
     "output_type": "error",
     "traceback": [
      "\u001b[1;31m현재 셀 또는 이전 셀에서 코드를 실행하는 동안 Kernel이 충돌했습니다. \n",
      "\u001b[1;31m셀의 코드를 검토하여 가능한 오류 원인을 식별하세요. \n",
      "\u001b[1;31m자세한 내용을 보려면 <a href='https://aka.ms/vscodeJupyterKernelCrash'>여기</a>를 클릭하세요. \n",
      "\u001b[1;31m자세한 내용은 Jupyter <a href='command:jupyter.viewOutput'>로그</a>를 참조하세요."
     ]
    }
   ],
   "source": [
    "# 마스크 기반 에지 검출\n",
    "import cv2 as cv\n",
    "import numpy as np\n",
    "\n",
    "def sobel_derivative():\n",
    "    src = cv.imread('lenna.bmp', cv.IMREAD_GRAYSCALE)\n",
    "    \n",
    "    if src is None:\n",
    "        print('Image load failed!')\n",
    "        return\n",
    "    mx = np.array([[-1, 0, 1],\n",
    "                   [-2, 0, 2],\n",
    "                   [-1, 0, 1]], dtype = np.float32)\n",
    "    my = np.array([[-1, -2, -1],\n",
    "                   [0, 0, 0,],\n",
    "                   [1, 2, 1]], dtype = np.float32)\n",
    "    dx = cv.filter2D(src, -1, mx, delta = 128)\n",
    "    dy = cv.filter2D(src, -1, my, delta = 128)\n",
    "    \n",
    "    cv.imshow('src', src)\n",
    "    cv.imshow('dx', dx)\n",
    "    cv.imshow('dy', dy)\n",
    "    cv.waitKey()\n",
    "    cv.destroyAllWindows()\n",
    "\n",
    "sobel_derivative()\n",
    "    "
   ]
  },
  {
   "cell_type": "code",
   "execution_count": null,
   "metadata": {},
   "outputs": [
    {
     "ename": "",
     "evalue": "",
     "output_type": "error",
     "traceback": [
      "\u001b[1;31m현재 셀 또는 이전 셀에서 코드를 실행하는 동안 Kernel이 충돌했습니다. \n",
      "\u001b[1;31m셀의 코드를 검토하여 가능한 오류 원인을 식별하세요. \n",
      "\u001b[1;31m자세한 내용을 보려면 <a href='https://aka.ms/vscodeJupyterKernelCrash'>여기</a>를 클릭하세요. \n",
      "\u001b[1;31m자세한 내용은 Jupyter <a href='command:jupyter.viewOutput'>로그</a>를 참조하세요."
     ]
    }
   ],
   "source": [
    "# 소벨 에지 검출\n",
    "import cv2 as cv\n",
    "import numpy as np\n",
    "\n",
    "def sobel_edge():\n",
    "    src = cv.imread('lenna.bmp', cv.IMREAD_GRAYSCALE)\n",
    "    \n",
    "    if src is None:\n",
    "        print('Image load failed!')\n",
    "        return\n",
    "    dx = cv.Sobel(src, cv.CV_32F, 1, 0)\n",
    "    dy = cv.Sobel(src, cv.CV_32F, 0 , 1)\n",
    "    \n",
    "    fmag = cv.magnitude(dx, dy)\n",
    "    mag = np.uint8(np.clip(fmag, 0, 255))\n",
    "    __, edge = cv.threshold(mag, 150, 255, cv.THRESH_BINARY)\n",
    "    \n",
    "    cv.imshow('src', src)\n",
    "    cv.imshow('mag', mag)\n",
    "    cv.imshow('edge', edge)\n",
    "    cv.waitKey()\n",
    "    cv.destroyAllWindows()\n",
    "sobel_edge()"
   ]
  },
  {
   "cell_type": "code",
   "execution_count": 1,
   "metadata": {},
   "outputs": [],
   "source": [
    "# 캐니 에지 검출기\n",
    "import cv2 as cv\n",
    "import numpy as np\n",
    "\n",
    "def canny_edge():\n",
    "    src = cv.imread('lenna.bmp', cv.IMREAD_GRAYSCALE)\n",
    "    \n",
    "    if src is None:\n",
    "        print('Image load failed!')\n",
    "        return\n",
    "\n",
    "    dst1 = cv.Canny(src, 50, 100)\n",
    "    dst2 = cv.Canny(src, 50, 150)\n",
    "    \n",
    "    cv.imshow('src', src)\n",
    "    cv.imshow('dst1', dst1)\n",
    "    cv.imshow('dst2', dst2)\n",
    "    cv.waitKey()\n",
    "    cv.destroyAllWindows()\n",
    "\n",
    "canny_edge()"
   ]
  },
  {
   "cell_type": "code",
   "execution_count": 6,
   "metadata": {},
   "outputs": [],
   "source": [
    "# 허프 변환 직선 검출\n",
    "import cv2 as cv\n",
    "import numpy as np\n",
    "import math\n",
    "def hough_lines():\n",
    "    src = cv.imread('building.jpg', cv.IMREAD_GRAYSCALE)\n",
    "    \n",
    "    if src is None:\n",
    "        print('Image load failed')\n",
    "        return\n",
    "    \n",
    "    edge = cv.Canny(src, 50, 150)\n",
    "    lines = cv.HoughLines(edge, 1, math.pi / 180, 230)\n",
    "    \n",
    "    dst = cv.cvtColor(edge, cv.COLOR_GRAY2BGR)\n",
    "    \n",
    "    if lines is not None:\n",
    "        for i in range(lines.shape[0]):\n",
    "            rho = lines[i][0][0]\n",
    "            theta = lines[i][0][1]\n",
    "            cos_t = math.cos(theta)\n",
    "            sin_t = math.sin(theta)\n",
    "            x0, y0 = rho * cos_t, rho * sin_t\n",
    "            alpha = 100\n",
    "            pt1 = (int(x0 - alpha * sin_t), int(y0 + alpha * cos_t))\n",
    "            pt2 = (int(x0 + alpha * sin_t), int(y0 - alpha * cos_t))\n",
    "            cv.line(dst, pt1, pt2, (0, 0, 255), 2, cv.LINE_AA)\n",
    "            \n",
    "        cv.imshow('src', src)\n",
    "        cv.imshow('dst', dst)\n",
    "        cv.waitKey()\n",
    "        cv.destroyAllWindows()\n",
    "hough_lines()"
   ]
  },
  {
   "cell_type": "code",
   "execution_count": 9,
   "metadata": {},
   "outputs": [
    {
     "name": "stderr",
     "output_type": "stream",
     "text": [
      "2024-10-08 20:32:39.251 python[17361:16377095] Warning: Window move completed without beginning\n"
     ]
    }
   ],
   "source": [
    "# 확률적 허프 변환 직선 검출\n",
    "import cv2 as cv\n",
    "import numpy as np\n",
    "import math\n",
    "\n",
    "def hough_line_segments():\n",
    "    src = cv.imread('building.jpg', cv.IMREAD_GRAYSCALE)\n",
    "    \n",
    "    if src is None:\n",
    "        print('Image load failed!')\n",
    "        return\n",
    "\n",
    "    edge = cv.Canny(src, 50, 150)\n",
    "    lines = cv.HoughLinesP(edge, 1, math.pi / 180, 160, minLineLength = 50, maxLineGap = 5)\n",
    "    dst = cv.cvtColor(edge, cv.COLOR_GRAY2BGR)\n",
    "    \n",
    "    if lines is not None:\n",
    "        for i in range(lines.shape[0]):\n",
    "            pt1 = (lines[i][0][0], lines[i][0][1])\n",
    "            pt2 = (lines[i][0][2], lines[i][0][3])\n",
    "            cv.line(dst, pt1, pt2, (0, 0, 255), 2, cv.LINE_AA)\n",
    "    \n",
    "    cv.imshow('src', src)\n",
    "    cv.imshow('dst', dst)\n",
    "    cv.waitKey()\n",
    "    cv.destroyAllWindows()\n",
    "\n",
    "hough_line_segments()"
   ]
  },
  {
   "cell_type": "code",
   "execution_count": 17,
   "metadata": {},
   "outputs": [
    {
     "ename": "",
     "evalue": "",
     "output_type": "error",
     "traceback": [
      "\u001b[1;31m현재 셀 또는 이전 셀에서 코드를 실행하는 동안 Kernel이 충돌했습니다. \n",
      "\u001b[1;31m셀의 코드를 검토하여 가능한 오류 원인을 식별하세요. \n",
      "\u001b[1;31m자세한 내용을 보려면 <a href='https://aka.ms/vscodeJupyterKernelCrash'>여기</a>를 클릭하세요. \n",
      "\u001b[1;31m자세한 내용은 Jupyter <a href='command:jupyter.viewOutput'>로그</a>를 참조하세요."
     ]
    }
   ],
   "source": [
    "# 허프 변환 원 검출\n",
    "import cv2 as cv\n",
    "import numpy as np\n",
    "import math\n",
    "\n",
    "def hough_circles():\n",
    "    src = cv.imread('coins.png', cv.IMREAD_GRAYSCALE)\n",
    "    \n",
    "    if src is None:\n",
    "        print('Image load failed!')\n",
    "        return\n",
    "    blurred = cv.blur(src, (3, 3))\n",
    "    circles = cv.HoughCircles(blurred, cv.HOUGH_GRADIENT, 1, 50,\n",
    "                              param1 = 150, param2 = 30)\n",
    "    dst = cv.cvtColor(src, cv.COLOR_GRAY2BGR)\n",
    "    if circles is not None:\n",
    "        for i in range(circles.shape[1]):\n",
    "            cx, cy, radius = circles[0][i]\n",
    "            cx, cy, radius = int(cx), int(cy), int(radius)\n",
    "            cv.circle(dst,(cx, cy), radius, (0, 0, 255), 2, cv.LINE_AA)\n",
    "            \n",
    "    cv.imshow('src', src)\n",
    "    cv.imshow('dst', dst)\n",
    "    cv.waitKey()\n",
    "    cv.destroyAllWindows()\n",
    "    \n",
    "hough_circles()"
   ]
  },
  {
   "cell_type": "code",
   "execution_count": null,
   "metadata": {},
   "outputs": [],
   "source": []
  }
 ],
 "metadata": {
  "kernelspec": {
   "display_name": "comvi",
   "language": "python",
   "name": "python3"
  },
  "language_info": {
   "codemirror_mode": {
    "name": "ipython",
    "version": 3
   },
   "file_extension": ".py",
   "mimetype": "text/x-python",
   "name": "python",
   "nbconvert_exporter": "python",
   "pygments_lexer": "ipython3",
   "version": "3.9.1"
  }
 },
 "nbformat": 4,
 "nbformat_minor": 2
}
