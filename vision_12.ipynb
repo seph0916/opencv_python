{
 "cells": [
  {
   "cell_type": "code",
   "execution_count": 3,
   "metadata": {},
   "outputs": [
    {
     "name": "stdout",
     "output_type": "stream",
     "text": [
      "src.shape (356, 493, 3)\n",
      "src.dtype uint8\n",
      " pixel value at B G R at (0, 0) is [47 88 50]\n"
     ]
    }
   ],
   "source": [
    "import cv2 as cv\n",
    "import numpy as np\n",
    "\n",
    "def color_op():\n",
    "    src = cv.imread(\"butterfly.jpg\",cv.IMREAD_COLOR)\n",
    "    \n",
    "    if src is None:\n",
    "        print(\"Image load failed!\")\n",
    "        return\n",
    "    \n",
    "    print(\"src.shape\", src.shape)\n",
    "    print(\"src.dtype\", src.dtype)\n",
    "    \n",
    "    print(\" pixel value at B G R at (0, 0) is\", src[0, 0])\n",
    "    \n",
    "if __name__ == \"__main__\":\n",
    "    color_op()"
   ]
  },
  {
   "cell_type": "code",
   "execution_count": 5,
   "metadata": {},
   "outputs": [],
   "source": [
    "import cv2 as cv\n",
    "import numpy as np\n",
    "\n",
    "def color_inverse():\n",
    "    src = cv.imread('butterfly.jpg', cv.IMREAD_COLOR)\n",
    "\n",
    "    if src is None:\n",
    "        print(\"Image load failed!\")\n",
    "        return\n",
    "    \n",
    "    dst = np.zeros(src.shape, src.dtype)\n",
    "    \n",
    "    for j in range(src.shape[0]):\n",
    "        for i in range(src.shape[1]):\n",
    "            p1 = src[j, i]\n",
    "            p2 = dst[j, i]\n",
    "            \n",
    "            p2[0] = 255 - p1[0]\n",
    "            p2[1] = 255 - p1[1]\n",
    "            p2[2] = 255 - p1[2]\n",
    "    cv.imshow('src', src)\n",
    "    cv.imshow('dst', dst)\n",
    "    cv.waitKey()\n",
    "    cv.destroyAllWindows()\n",
    "\n",
    "def main():\n",
    "    color_inverse()\n",
    "\n",
    "if __name__ ==\"__main__\":\n",
    "    main()"
   ]
  },
  {
   "cell_type": "code",
   "execution_count": 9,
   "metadata": {},
   "outputs": [
    {
     "name": "stdout",
     "output_type": "stream",
     "text": [
      "dst shape (356, 493)\n",
      "dst dtype uint8\n",
      "72\n",
      "[47 88 50]\n"
     ]
    }
   ],
   "source": [
    "import cv2 as cv\n",
    "import numpy as np\n",
    "\n",
    "def color_grayscale():\n",
    "    src = cv.imread('butterfly.jpg', cv.IMREAD_COLOR)\n",
    "    \n",
    "    if src is None:\n",
    "        print(\"Image load failed!\")\n",
    "        return\n",
    "\n",
    "    dst = cv.cvtColor(src, cv.COLOR_BGR2GRAY)\n",
    "    print(\"dst shape\", dst.shape)\n",
    "    print(\"dst dtype\", dst.dtype)\n",
    "    print(dst[0,1])\n",
    "    print(src[0,1])\n",
    "    \n",
    "    cv.imshow('src', src)\n",
    "    cv.imshow('dst', dst)\n",
    "    cv.waitKey()\n",
    "    cv.destroyAllWindows()\n",
    "    \n",
    "def main():\n",
    "    color_grayscale()\n",
    "    \n",
    "\n",
    "if __name__ == \"__main__\":\n",
    "    main()\n"
   ]
  },
  {
   "cell_type": "code",
   "execution_count": 10,
   "metadata": {},
   "outputs": [],
   "source": [
    "import cv2 as cv\n",
    "import numpy as np\n",
    "\n",
    "def color_split():\n",
    "    src = cv.imread('candies.png', cv.IMREAD_COLOR)\n",
    "    \n",
    "    if src is None:\n",
    "        print('Image load failed')\n",
    "        return\n",
    "\n",
    "    # b_plane, g_plane, r_plane = cv.split(src)\n",
    "    bgr_planes = cv.split(src)\n",
    "    cv.imshow('src', src)\n",
    "    cv.imshow('B_plane', bgr_planes[0])\n",
    "    cv.imshow('G_plane', bgr_planes[1])\n",
    "    cv.imshow('R_plane', bgr_planes[2])\n",
    "    cv.waitKey()\n",
    "    cv.destroyAllWindows()\n",
    "\n",
    "def main():\n",
    "    color_split()\n",
    "\n",
    "if __name__ == \"__main__\":\n",
    "    main()"
   ]
  },
  {
   "cell_type": "code",
   "execution_count": 21,
   "metadata": {},
   "outputs": [
    {
     "name": "stdout",
     "output_type": "stream",
     "text": [
      "[array([[ 30,  58,  62, ...,  75,  81,  57],\n",
      "       [ 37, 119, 114, ..., 174, 161, 157],\n",
      "       [ 38, 121, 115, ..., 171, 170, 158],\n",
      "       ...,\n",
      "       [ 28, 124, 132, ..., 199, 196, 187],\n",
      "       [ 28, 121, 111, ..., 195, 193, 169],\n",
      "       [ 28,  86, 127, ..., 184, 192, 196]], dtype=uint8), array([[179, 186, 191, ..., 211, 216, 173],\n",
      "       [189, 179, 182, ..., 114, 110,  98],\n",
      "       [191, 174, 178, ..., 109, 112,  96],\n",
      "       ...,\n",
      "       [174, 130, 131, ..., 115, 114, 129],\n",
      "       [174, 143, 139, ..., 114, 116, 147],\n",
      "       [174, 152, 137, ..., 115, 113, 129]], dtype=uint8), array([[111, 175, 175, ..., 175, 182, 198],\n",
      "       [107,  87,  92, ...,  78,  86,  87],\n",
      "       [107,  88,  90, ...,  83,  76,  88],\n",
      "       ...,\n",
      "       [112,  85,  84, ..., 114, 113,  95],\n",
      "       [112,  89,  92, ..., 110, 115,  99],\n",
      "       [112, 100,  89, ..., 109, 122, 114]], dtype=uint8)]\n"
     ]
    }
   ],
   "source": [
    "# 컬러 히스토그램 평활화 -> YCrCb를 사용해서\n",
    "import cv2 as cv\n",
    "import numpy as np\n",
    "\n",
    "src = cv.imread('pepper.bmp', cv.IMREAD_COLOR)\n",
    "\n",
    "if src is None:\n",
    "    print('Image load failed!')\n",
    "    exit()\n",
    "\n",
    "src_ycrcb = cv.cvtColor(src, cv.COLOR_BGR2YCrCb)\n",
    "\n",
    "ycrcb_planes = list(cv.split(src_ycrcb)) # 튜플이라 리스트로 변환\n",
    "print(ycrcb_planes)\n",
    "ycrcb_planes[0] = cv.equalizeHist(ycrcb_planes[0])\n",
    "\n",
    "dst_ycrcb = cv.merge(ycrcb_planes)\n",
    "\n",
    "dst = cv.cvtColor(dst_ycrcb, cv.COLOR_YCrCb2BGR)\n",
    "\n",
    "cv.imshow('src', src)\n",
    "cv.imshow('dst', dst)\n",
    "cv.waitKey()\n",
    "cv.destroyAllWindows()"
   ]
  },
  {
   "cell_type": "code",
   "execution_count": 29,
   "metadata": {},
   "outputs": [
    {
     "ename": "",
     "evalue": "",
     "output_type": "error",
     "traceback": [
      "\u001b[1;31m현재 셀 또는 이전 셀에서 코드를 실행하는 동안 Kernel이 충돌했습니다. \n",
      "\u001b[1;31m셀의 코드를 검토하여 가능한 오류 원인을 식별하세요. \n",
      "\u001b[1;31m자세한 내용을 보려면 <a href='https://aka.ms/vscodeJupyterKernelCrash'>여기</a>를 클릭하세요. \n",
      "\u001b[1;31m자세한 내용은 Jupyter <a href='command:jupyter.viewOutput'>로그</a>를 참조하세요."
     ]
    }
   ],
   "source": [
    "# 색상 범위 지정에 의한 영역 분할 -> HSV 사용\n",
    "\n",
    "import cv2 as cv\n",
    "import numpy as np\n",
    "\n",
    "def on_hue_changed(_=None):\n",
    "    lower_hue = cv.getTrackbarPos('Lower Hue', 'mask')\n",
    "    upper_hue = cv.getTrackbarPos('Upper Hue', 'mask')\n",
    "    \n",
    "    lowerb = (lower_hue, 100, 0)\n",
    "    upperb = (upper_hue, 255, 255)\n",
    "    mask = cv.inRange(src_hsv, lowerb, upperb)\n",
    "    cv.imshow('mask', mask)\n",
    "    \n",
    "def main():\n",
    "    global src_hsv\n",
    "    \n",
    "    src = cv.imread('candies.png', cv.IMREAD_COLOR)\n",
    "    \n",
    "    if src is None:\n",
    "        print('Image load failed!')\n",
    "        return\n",
    "\n",
    "    src_hsv = cv.cvtColor(src, cv.COLOR_BGR2HSV)\n",
    "    \n",
    "    cv.imshow('src', src)\n",
    "    cv.namedWindow('mask')\n",
    "    cv.createTrackbar('Lower Hue11', 'mask', 40, 179, on_hue_changed)\n",
    "    cv.createTrackbar('Upper Hue', 'mask', 80, 179, on_hue_changed)\n",
    "    on_hue_changed(0)\n",
    "    \n",
    "    cv.waitKey()\n",
    "    cv.destroyAllWindows()\n",
    "\n",
    "if __name__ == \"__main__\":\n",
    "    main()"
   ]
  },
  {
   "cell_type": "code",
   "execution_count": null,
   "metadata": {},
   "outputs": [],
   "source": []
  }
 ],
 "metadata": {
  "kernelspec": {
   "display_name": "comvi",
   "language": "python",
   "name": "python3"
  },
  "language_info": {
   "codemirror_mode": {
    "name": "ipython",
    "version": 3
   },
   "file_extension": ".py",
   "mimetype": "text/x-python",
   "name": "python",
   "nbconvert_exporter": "python",
   "pygments_lexer": "ipython3",
   "version": "3.9.1"
  }
 },
 "nbformat": 4,
 "nbformat_minor": 2
}
