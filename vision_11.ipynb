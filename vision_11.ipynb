{
 "cells": [
  {
   "cell_type": "code",
   "execution_count": 8,
   "metadata": {},
   "outputs": [],
   "source": [
    "# 이진화 실습\n",
    "import cv2 as cv \n",
    "import numpy as np\n",
    "import sys\n",
    "\n",
    "def on_threshold(pos):\n",
    "    _, dst  = cv.threshold(src, pos, 255, cv.THRESH_BINARY)\n",
    "    cv.imshow('dst',dst)\n",
    "\n",
    "\n",
    "\n",
    "def main():\n",
    "    global src\n",
    "    filename = '/Users/seph/Desktop/4-2/pythoncomvi/image_ex/neutrophils.png'\n",
    "# 내가 만약 터미널로 실행을 했더라면 아래코드 사용\n",
    "# if len(sys.argv) > 1:\n",
    "#     filename = sys.argv[1]\n",
    "    src = cv.imread(filename, cv.IMREAD_GRAYSCALE)\n",
    "    if src is None:\n",
    "        print(\"Image load failed!\")\n",
    "        exit()\n",
    "        \n",
    "    cv.imshow('src', src)\n",
    "    cv.namedWindow('dst')\n",
    "    cv.createTrackbar('Threshold', 'dst', 0, 255, on_threshold)\n",
    "    cv.setTrackbarPos('Threshold', 'dst', 128)\n",
    "    cv.waitKey()\n",
    "    cv.destroyAllWindows()\n",
    "\n",
    "if __name__ == \"__main__\":\n",
    "    main()\n"
   ]
  },
  {
   "cell_type": "code",
   "execution_count": null,
   "metadata": {},
   "outputs": [],
   "source": []
  }
 ],
 "metadata": {
  "kernelspec": {
   "display_name": "comvi",
   "language": "python",
   "name": "python3"
  },
  "language_info": {
   "codemirror_mode": {
    "name": "ipython",
    "version": 3
   },
   "file_extension": ".py",
   "mimetype": "text/x-python",
   "name": "python",
   "nbconvert_exporter": "python",
   "pygments_lexer": "ipython3",
   "version": "3.9.1"
  }
 },
 "nbformat": 4,
 "nbformat_minor": 2
}
